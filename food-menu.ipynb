{
 "cells": [
  {
   "cell_type": "code",
   "execution_count": 3,
   "metadata": {},
   "outputs": [],
   "source": [
    "import ollama\n",
    "\n"
   ]
  },
  {
   "cell_type": "code",
   "execution_count": 17,
   "metadata": {},
   "outputs": [],
   "source": [
    "food_names = []"
   ]
  },
  {
   "cell_type": "code",
   "execution_count": 23,
   "metadata": {},
   "outputs": [],
   "source": [
    "# Generate a list of food names\n"
   ]
  },
  {
   "cell_type": "code",
   "execution_count": 26,
   "metadata": {},
   "outputs": [
    {
     "name": "stdout",
     "output_type": "stream",
     "text": [
      "32\n",
      "35\n",
      "40\n",
      "40\n",
      "45\n",
      "47\n",
      "51\n",
      "54\n",
      "57\n",
      "61\n"
     ]
    }
   ],
   "source": [
    "for i in range(10):\n",
    "    # get pakistan food names\n",
    "    stream = ollama.chat(\n",
    "        model='llama3.1',\n",
    "        messages=[{'role': 'user', 'content': 'generate a list of paksitani food. show just names no numbers or category headers. do not add any extra information just food names please.'}],\n",
    "        stream=False,\n",
    "    )\n",
    "\n",
    "    # get result\n",
    "    ans = stream['message']['content']\n",
    "\n",
    "    # split in lines and record new food names\n",
    "    for i in ans.split('\\n'):\n",
    "        if i not in food_names:\n",
    "            food_names.append(i)\n",
    "    print(len(food_names))"
   ]
  },
  {
   "cell_type": "code",
   "execution_count": 27,
   "metadata": {},
   "outputs": [
    {
     "data": {
      "text/plain": [
       "['Nihari',\n",
       " 'Kebab',\n",
       " 'Biryani',\n",
       " 'Korma',\n",
       " 'Naan',\n",
       " 'Samosas',\n",
       " 'Falooda',\n",
       " 'Haleem',\n",
       " 'Pakora',\n",
       " 'Shawarma',\n",
       " 'Tandoori Chicken',\n",
       " 'Gulab Jamun',\n",
       " 'Jalebi',\n",
       " 'Sheermal',\n",
       " 'Qeema',\n",
       " 'Rogan Josh',\n",
       " 'Makhni',\n",
       " 'Kebabs',\n",
       " 'Tikka',\n",
       " 'Seekh',\n",
       " 'Jalfrezi',\n",
       " 'Nargisi Kofta',\n",
       " ' Haleem',\n",
       " 'Karahi',\n",
       " 'Kachoris',\n",
       " 'Barfi',\n",
       " 'Malai Kofta',\n",
       " 'Shami Kabab',\n",
       " 'Aloo Gobi',\n",
       " 'Paratha',\n",
       " 'Naan Bread',\n",
       " 'Sag Aloo',\n",
       " 'Seekh Kebab',\n",
       " 'Qorma',\n",
       " 'Shahi Tukray',\n",
       " 'Karachi Breeze',\n",
       " 'Shami Kebab',\n",
       " 'Halwa Puri',\n",
       " 'Chana Masala',\n",
       " 'Nihari Kebab',\n",
       " 'Karachi Haleem',\n",
       " 'Farchi',\n",
       " 'Kachoris ',\n",
       " 'Sag Aloo ',\n",
       " 'Zarda',\n",
       " 'Karachi Bites',\n",
       " 'Chicken Tikka',\n",
       " 'Samosa',\n",
       " 'Fulka',\n",
       " 'Halwa',\n",
       " 'Sheesh Mahal',\n",
       " 'Sheesh Kabab',\n",
       " 'Baingan Barta',\n",
       " 'Kofta',\n",
       " 'Chicken Karahi',\n",
       " 'Baingan Bharta',\n",
       " 'Kulfi',\n",
       " 'Halwa Poori',\n",
       " 'Karahi Chicken',\n",
       " 'Pakora ',\n",
       " 'Khichdi']"
      ]
     },
     "execution_count": 27,
     "metadata": {},
     "output_type": "execute_result"
    }
   ],
   "source": [
    "food_names"
   ]
  },
  {
   "cell_type": "code",
   "execution_count": 63,
   "metadata": {},
   "outputs": [],
   "source": [
    "description = []\n",
    "# generate descriptions \n",
    "for name in food_names:\n",
    "    # get pakistan food names\n",
    "    stream = ollama.chat(\n",
    "        model='llama3.1',\n",
    "        messages=[{'role': 'user', 'content': 'generate a  short description of the following pakistani food: '+name}],\n",
    "        stream=False,\n",
    "    )\n",
    "\n",
    "    # get result\n",
    "    ans = stream['message']['content']\n",
    "\n",
    "    description.append(ans)"
   ]
  },
  {
   "cell_type": "code",
   "execution_count": 84,
   "metadata": {},
   "outputs": [],
   "source": [
    "import numpy as np\n",
    "\n",
    "embeddings = {}\n",
    "\n",
    "e1 = np.array(ollama.embeddings(model='llama3.1', prompt='pakistani food')['embedding'])\n",
    "for i in food_names:\n",
    "    e2 = np.array(ollama.embeddings(model='llama3.1', prompt=i)['embedding'])\n",
    "    embeddings[i] = e2"
   ]
  },
  {
   "cell_type": "code",
   "execution_count": 88,
   "metadata": {},
   "outputs": [],
   "source": [
    "def cosine_similarity(v1, v2):\n",
    "    dot_product = np.dot(v1, v2)\n",
    "    magnitude_v1 = np.linalg.norm(v1)\n",
    "    magnitude_v2 = np.linalg.norm(v2)\n",
    "    return dot_product / (magnitude_v1 * magnitude_v2)"
   ]
  },
  {
   "cell_type": "code",
   "execution_count": 91,
   "metadata": {},
   "outputs": [
    {
     "name": "stdout",
     "output_type": "stream",
     "text": [
      "Nihari 0.5509102474103875\n",
      "Kebab 0.5290328916628928\n",
      "Biryani 0.5550861994186617\n",
      "Korma 0.4908160967183946\n",
      "Naan 0.4187024020102248\n",
      "Samosas 0.5417133542504685\n",
      "Falooda 0.5197471368711961\n",
      "Haleem 0.41607539078803135\n",
      "Pakora 0.5704251772625349\n",
      "Shawarma 0.5095020060794804\n",
      "Tandoori Chicken 0.5128664238583371\n",
      "Gulab Jamun 0.48301782158848877\n",
      "Jalebi 0.5085489837446261\n",
      "Sheermal 0.5161759604445885\n",
      "Qeema 0.435554426929487\n",
      "Rogan Josh 0.5017786915847088\n",
      "Makhni 0.4242991814327487\n",
      "Kebabs 0.5506972917077915\n",
      "Tikka 0.45858124054177013\n",
      "Seekh 0.4332211596532384\n",
      "Jalfrezi 0.5038248656778498\n",
      "Nargisi Kofta 0.4175616731485238\n",
      " Haleem 0.4796161440617232\n",
      "Karahi 0.5430720680322614\n",
      "Kachoris 0.5211313678878913\n",
      "Barfi 0.5128277672277802\n",
      "Malai Kofta 0.44741449759234886\n",
      "Shami Kabab 0.539609855812857\n",
      "Aloo Gobi 0.3524918740040829\n",
      "Paratha 0.5375652134554247\n",
      "Naan Bread 0.4965790620627148\n",
      "Sag Aloo 0.38090689377232956\n",
      "Seekh Kebab 0.4902856278246479\n",
      "Qorma 0.4681814427256407\n",
      "Shahi Tukray 0.5063798460268345\n",
      "Karachi Breeze 0.45578903973165524\n",
      "Shami Kebab 0.525895942383924\n",
      "Halwa Puri 0.5170003510944602\n",
      "Chana Masala 0.44890123163872186\n",
      "Nihari Kebab 0.4978846358119707\n",
      "Karachi Haleem 0.4932051634978624\n",
      "Farchi 0.33912046018043535\n",
      "Kachoris  0.34581512597446656\n",
      "Sag Aloo  0.26213693424472945\n",
      "Zarda 0.39064988555434493\n",
      "Karachi Bites 0.4957130461935597\n",
      "Chicken Tikka 0.422661972530441\n",
      "Samosa 0.5311316361010624\n",
      "Fulka 0.280017608466974\n",
      "Halwa 0.45721947070825175\n",
      "Sheesh Mahal 0.3744528218792082\n",
      "Sheesh Kabab 0.5014501893477267\n",
      "Baingan Barta 0.4426695078136063\n",
      "Kofta 0.5288615241458214\n",
      "Chicken Karahi 0.4646408056209659\n",
      "Baingan Bharta 0.4165530635239288\n",
      "Kulfi 0.4751295182248216\n",
      "Halwa Poori 0.5210068531160537\n",
      "Karahi Chicken 0.5305797406842372\n",
      "Pakora  0.36392546128966097\n",
      "Khichdi 0.5524878594761942\n"
     ]
    }
   ],
   "source": [
    "for n in embeddings:\n",
    "    e2 = embeddings[n]\n",
    "    print(n , cosine_similarity(e1, e2))  # Calculate cosine similarity between e1 and e2\n"
   ]
  },
  {
   "cell_type": "code",
   "execution_count": 30,
   "metadata": {},
   "outputs": [],
   "source": [
    "# talk to stable diffusion\n",
    "import webuiapi\n",
    "# create API client\n",
    "api = webuiapi.WebUIApi()"
   ]
  },
  {
   "cell_type": "code",
   "execution_count": 62,
   "metadata": {},
   "outputs": [],
   "source": [
    "for food_name in food_names:\n",
    "    result1 = api.txt2img(prompt=food_name,\n",
    "                        negative_prompt=\"ugly, out of frame\",\n",
    "                        seed=1003,\n",
    "                        styles=[\"anime\"],\n",
    "                        cfg_scale=7,\n",
    "\n",
    "                        )\n",
    "    name = food_name.lower().replace(' ', '_')\n",
    "    # images contains the returned images (PIL images)\n",
    "    result1.image.save(f'./public/food/{name}.webp')"
   ]
  },
  {
   "cell_type": "code",
   "execution_count": 92,
   "metadata": {},
   "outputs": [],
   "source": [
    "data = []\n",
    "# write to json\n",
    "for idx, name in enumerate(food_names):\n",
    "    desc = description[idx]\n",
    "    desc = desc.replace(\"*\", '').split('\\n')[1:]\n",
    "    desc[1] = desc[1][13:]\n",
    "    desc = ''.join([i for i in desc])\n",
    "    _name = name.lower().replace(' ', '_')\n",
    "    img = '/food/'+_name +'.webp'\n",
    "    \n",
    "    data.append([idx, name, desc, img])"
   ]
  },
  {
   "cell_type": "code",
   "execution_count": 93,
   "metadata": {},
   "outputs": [
    {
     "name": "stdout",
     "output_type": "stream",
     "text": [
      "[[0, \"Nihari\", \"Nihari is a traditional, slow-cooked stew originating from Mughal India and popular in Pakistan. Made with tender chunks of meat (usually beef or lamb), this flavorful dish is cooked for several hours to achieve a rich, velvety texture. Aromatics like onions, garlic, ginger, and spices are saut\\u00e9ed before being added to the pot along with bone marrow, which enriches the broth's flavor and body. The result is a hearty, comforting meal that warms the soul.\", \"/food/nihari.webp\"], [1, \"Kebab\", \"A popular Pakistani street food, Kebabs are skewers of marinated meat (usually lamb or beef) grilled to perfection. The tender, juicy meat is infused with a blend of spices, herbs, and sometimes yogurt, creating a flavorful and aromatic snack that's often served with a side of naan bread, chutneys, or salads.\", \"/food/kebab.webp\"], [2, \"Biryani\", \"assic Pakistani dish, Biryani is a flavorful and aromatic rice-based meal made with layers of basmati rice, marinated meat (usually lamb, beef, or chicken), and an assortment of spices, including cumin, coriander, cardamom, and cinnamon. The mixture is slow-cooked to perfection, resulting in tender meat, fluffy rice, and a rich, slightly spicy flavor that's quintessentially Pakistani.\", \"/food/biryani.webp\"], [3, \"Korma\", \" and creamy curry originating from Mughal India, now popular in Pakistan. Korma is made with marinated meat (usually chicken, lamb, or beef) cooked in a rich sauce of yogurt, spices, nuts (such as almonds or cashews), and aromatic herbs like cumin, coriander, and cardamom. The sauce is typically smooth and velvety, making Korma a comforting and flavorful dish perfect for those seeking a gentle yet satisfying Pakistani culinary experience.\", \"/food/korma.webp\"], [4, \"Naan\", \"ic Pakistani flatbread, leavened and baked to perfection. Soft, fluffy, and slightly tangy on the inside with a crispy golden crust on the outside, Naan is often served hot with a variety of curries, gravies, or used as a wrap for stuffed delights like chicken tikka or keema.\", \"/food/naan.webp\"], [5, \"Samosas\", \"crispy, flaky pastries filled with a flavorful blend of spiced potatoes, peas, onions, and sometimes meat or cheese. Typically deep-fried until golden brown, these savory snacks are a popular Pakistani street food and a staple at social gatherings.\\\"\", \"/food/samosas.webp\"], [6, \"Falooda\", \"assic Pakistani dessert drink, also known as \\\"vermicelli milkshake\\\" in some regions. It consists of a thick, creamy mixture of vermicelli noodles (fine wheat flour noodles), milk, sugar, and rose syrup, topped with cardamom powder, chopped pistachios, and sometimes ice cream or whipped cream. The result is a sweet, cold, and refreshing treat that's popular during hot summer months in Pakistan.\", \"/food/falooda.webp\"], [7, \"Haleem\", \"A traditional and rich Pakistani dish, Haleem is a slow-cooked stew made with wheat, lentils, meat (usually beef or mutton), and spices. The dish is cooked overnight on low heat to infuse the flavors and texture, resulting in a thick, creamy consistency. Flavorful and aromatic, Haleem is often served during special occasions and celebrations, such as weddings and Eid al-Fitr. Its comforting aroma and delicious taste have made it a beloved comfort food across Pakistan and beyond!\", \"/food/haleem.webp\"], [8, \"Pakora\", \"d Fried Fritters)A popular Pakistani street food, Pakora is a crispy and flavorful fried snack made with a mixture of chickpea flour, spices, and vegetables such as onions, potatoes, and cauliflower. The batter is typically made with gram flour, water, and various seasonings like cumin, coriander, and garam masala. Once deep-fried to a golden brown perfection, Pakora is served hot with a dollop of yogurt or chutney, making for a delicious and addictive snack!\", \"/food/pakora.webp\"], [9, \"Shawarma\", \"so known as Seekh Kabab in Pakistan) - A popular Pakistani street food made with juicy, grilled minced meat skewers, typically served in a warm pita bread with crispy vegetables, tangy sauces, and a sprinkle of spices. The flavor is a perfect balance of savory, spicy, and sweet.\\\"\", \"/food/shawarma.webp\"], [10, \"Tandoori Chicken\", \"kenA classic Pakistani dish, Tandoori Chicken is a mouth-watering, smoky delight. Marinated in a blend of spices, yogurt, and lemon juice, juicy chicken pieces are slow-cooked to perfection in a traditional clay oven (tandoor) or on a grill. The result is tender, flavorful meat with a vibrant red color and a distinctive aroma that's both savory and slightly sweet. Served hot with naan bread, basmati rice, or salad, Tandoori Chicken is a staple of Pakistani cuisine that never fails to impress!\", \"/food/tandoori_chicken.webp\"], [11, \"Gulab Jamun\", \"is a classic Pakistani dessert consisting of deep-fried dumplings made from milk solids (khoya or paneer) that are soaked in a rich, sweet syrup flavored with rosewater and cardamom. The syrup, known as gulab, gives the dish its distinctive flavor and aroma, while the soft, fluffy dumplings provide a delightful textural contrast.\\\"\", \"/food/gulab_jamun.webp\"], [12, \"Jalebi\", \"ssic Pakistani sweet, also popular in India and other South Asian countries. Jalebi is a crispy, spiral-shaped fried batter dessert that is deep-fried until golden brown. It's typically served hot with a drizzle of syrup (gulab or rosewater) and often enjoyed as a snack or dessert during special occasions and festivals, such as Eid and Diwali.\", \"/food/jalebi.webp\"], [13, \"Sheermal\", \" traditional Pakistani bread that originated in the Mughal era. It's a type of leavened flatbread made with yeast, milk, and ghee (clarified butter), which gives it a rich, buttery flavor and aroma. The dough is allowed to ferment for several hours, making Sheermal soft and fluffy on the inside, while its crispy crust adds a delightful textural contrast when served warm. Often enjoyed during breakfast or as an accompaniment to various Pakistani dishes, Sheermal is a beloved staple in Pakistani cuisine, especially among Sufi Muslims who often serve it as part of their traditional hospitality.\", \"/food/sheermal.webp\"], [14, \"Qeema\", \"ani Minced Meat)Qeema is a popular Pakistani dish made with finely minced meat, usually beef or mutton. The minced meat is cooked with a blend of aromatic spices, onions, tomatoes, and sometimes potatoes, to create a flavorful and savory stew-like consistency. It's often served with naan bread, rice, or roti, and is commonly enjoyed as a main course or used as an ingredient in other dishes like keema paratha or qeema filled samosas.\", \"/food/qeema.webp\"], [15, \"Rogan Josh\", \"A classic Kashmiri dish, Rogan Josh is a flavorful and spicy lamb curry that originates from the state of Jammu & Kashmir. Made with tender lamb pieces cooked in a rich, aromatic sauce made with Kashmiri chilies, onions, garlic, ginger, cardamom, cinnamon, cloves, and other spices, Rogan Josh is characterized by its deep red color and bold, slightly sweet flavor. Served hot over basmati rice or naan bread, this iconic Pakistani dish is a testament to the region's rich culinary heritage.\", \"/food/rogan_josh.webp\"], [16, \"Makhni\", \" known as Makhani) is a rich and creamy tomato-based curry made with tender paneer cubes, onions, garlic, ginger, and spices. It's often served in North Indian and Pakistani cuisine, characterized by its velvety texture and deep red color. The flavor profile of Makhan is both tangy from the tomatoes and slightly sweet from the paneer, making it a popular dish among meat-lovers and vegetarians alike.\\\"\", \"/food/makhni.webp\"], [17, \"Kebabs\", \" popular and mouthwatering street food in Pakistan, made from marinated chunks of meat (usually beef, lamb, or chicken) grilled to perfection over an open flame. Served on a wooden stick or with naan bread, kebabs are often flavored with a blend of spices like cumin, coriander, and cardamom, giving them a unique and aromatic taste that's hard to resist.\\\"\", \"/food/kebabs.webp\"], [18, \"Tikka\", \"lar Pakistani dish, Tikka is a flavorful and aromatic marinated meat (usually chicken or beef) that's cooked to perfection. Tender chunks of meat are soaked in a rich blend of spices, yogurt, and herbs, then grilled or baked until golden brown and juicy. The result is a mouthwatering, tender delight with a burst of spicy and tangy flavors.\", \"/food/tikka.webp\"], [19, \"Seekh\", \"lassic Pakistani street food made from minced meat (usually lamb or beef) mixed with spices, onions, and herbs, which are then wrapped around a skewer to form a cylindrical shape. The seekh is grilled over an open flame, giving it a smoky flavor and crispy exterior, before being served hot with naan bread, salad, and chutneys.\\\"\", \"/food/seekh.webp\"], [20, \"Jalfrezi\", \"picy and flavorful Pakistani-Chinese fusion dish, typically made with marinated chicken or lamb stir-fried with bell peppers, onions, tomatoes, and chili peppers. The name \\\"Jalfrezi\\\" is derived from the Hindi word for \\\"hot and spicy\\\". This dish is often served with rice, roti, or naan bread, and is a popular favorite among Pakistani food lovers.\", \"/food/jalfrezi.webp\"], [21, \"Nargisi Kofta\", \"t description:\\\"Nargisi Kofta\\\" (also known as \\\"Nargisi Kabab\\\") is a popular Pakistani appetizer or snack made from boiled eggs wrapped in a layer of spiced minced meat, typically beef or lamb. The word \\\"Nargisi\\\" translates to \\\"tuberose\\\", but it's believed that the name refers to the delicate, flower-like shape of the dish. The flavorful mixture of spices, onions, and herbs is carefully coated around the egg, creating a beautiful presentation that's both elegant and appetizing.\", \"/food/nargisi_kofta.webp\"], [22, \" Haleem\", \"rich and flavorful Pakistani stew made with wheat, lentils, and meat (usually buffalo or beef), slow-cooked together in a mixture of spices, ghee (clarified butter), and aromatic herbs like cumin, coriander, and cardamom. The result is a thick, creamy, and comforting dish that's often served at special occasions and celebrations, particularly during the holy month of Ramadan.\\\"\", \"/food/_haleem.webp\"], [23, \"Karahi\", \"ular Pakistani dish that originated in the North Indian and Pakistani cuisine, Karahi is a flavorful and spicy stir-fry made with marinated meat (usually chicken, beef, or lamb), bell peppers, onions, tomatoes, and spices. The key to this dish lies in its cooking technique - the ingredients are quickly saut\\u00e9ed together in a wok-like vessel called \\\"karako\\\" or \\\"kadhai\\\", which gives it a smoky flavor. Karahi is often served with naan bread or rice and is a favorite among Pakistanis for its bold flavors and aroma.\", \"/food/karahi.webp\"], [24, \"Kachoris\", \"A crispy and savory Indian/Pakistani street food, Kachori is a deep-fried puri (bread) puffed up with a flavorful filling. Typically made with a mixture of spices, gram flour, and often filled with chutneys or potatoes, onions, and sometimes even peas or paneer, Kachori is a popular snack or light meal that's easy to eat on-the-go.\", \"/food/kachoris.webp\"], [25, \"Barfi\", \"sic Pakistani dessert, Barfi is a dense and rich sweet confection made from condensed milk, sugar, and cardamom. Typically square or diamond-shaped, it has a smooth, velvety texture and a deep, golden color. Flavors of cardamom and nuts like pistachio or almond add to its distinctive taste, making Barfi a beloved treat in Pakistani cuisine.\", \"/food/barfi.webp\"], [26, \"Malai Kofta\", \"A classic Pakistani dish, Malai Kofta consists of flavorful meatballs (usually made from minced lamb or beef) coated in a rich and creamy tomato-based sauce, infused with aromatic spices like cumin, coriander, and cardamom. The koftas are typically deep-fried until golden brown, then simmered in the velvety malai sauce to create a dish that is both savory and indulgent. Served hot with basmati rice or naan bread, Malai Kofta is a popular favorite among Pakistani cuisine lovers.\", \"/food/malai_kofta.webp\"], [27, \"Shami Kabab\", \"A classic Pakistani street food, Shami Kababs are crispy on the outside and juicy on the inside meat patties made with minced lamb or beef. Typically seasoned with spices like cumin, coriander, and cardamom, these flavorful kababs are usually served in a soft, lightly-toasted bun (often referred to as a \\\"bun kebab\\\") with a dollop of yogurt and a sprinkle of fresh cilantro.\", \"/food/shami_kabab.webp\"], [28, \"Aloo Gobi\", \"classic and comforting Pakistani dish, Aloo Gobi is a flavorful vegetable curry made with potatoes (aloo) and cauliflower (gobi). Tender pieces of cauliflower and diced potatoes are cooked in a rich and aromatic tomato-based sauce, blended with spices like cumin, coriander, and turmeric. The result is a deliciously savory and slightly spicy dish that's often served with naan bread or rice, and is a staple of Pakistani cuisine.\", \"/food/aloo_gobi.webp\"], [29, \"Paratha\", \" traditional Pakistani flatbread that is layered with butter or ghee, making it crispy and flaky on the outside while remaining soft and warm on the inside. Often served as a breakfast staple or used to wrap various fillings such as vegetables, meats, or chutneys.\\\"\", \"/food/paratha.webp\"], [30, \"Naan Bread\", \"A classic Pakistani flatbread, Naan is a soft, lightly leavened, and utterly addictive bread that's perfect for scooping up curries, stews, and dips. Made with a mixture of flour, yeast, salt, and yogurt, this warm, golden-brown treat has a delicate texture and a subtle tang, making it a staple in Pakistani cuisine. Naan is often served hot, straight from the tandoor oven or griddle, and is perfect for accompanying rich and flavorful Pakistani dishes like Biryani, Karahi, and Korma.\", \"/food/naan_bread.webp\"], [31, \"Sag Aloo\", \"A classic and comforting Pakistani dish made with a flavorful spinach curry (sag) cooked with crispy fried potatoes (aloo), onions, garlic, and spices. The creamy and slightly bitter spinach sauce complements the crunchy potatoes perfectly, making this a popular and satisfying side dish in Pakistani cuisine.\", \"/food/sag_aloo.webp\"], [32, \"Seekh Kebab\", \"A classic Pakistani dish, Seekh Kebabs are skewers of marinated meat (usually lamb or beef) grilled to perfection. The meat is minced and mixed with spices, onions, and sometimes breadcrumbs, giving it a flavorful and textured bite. Served hot off the grill, Seekh Kebabs are often served in a bun with a sprinkle of chaat masala and lemon juice, making for a delicious street food experience in Pakistan.\", \"/food/seekh_kebab.webp\"], [33, \"Qorma\", \"A rich and flavorful Pakistani dish, Qorma is a slow-cooked stew made with tender pieces of meat (usually lamb or chicken), marinated in a mixture of spices, herbs, yogurt, and nuts. The sauce is thick and creamy, with deep red color, resulting from the use of saffron, cardamom, cinnamon, and other aromatic spices. Qorma is often served with basmati rice or naan bread, making it a popular and comforting meal in Pakistani cuisine.\", \"/food/qorma.webp\"], [34, \"Shahi Tukray\", \"A rich and indulgent Pakistani bread pudding, Shahi Tukray is a heavenly dessert made with deep-fried bread slices soaked in a creamy mixture of milk, sugar, cardamom, and nuts. The sweet, buttery flavor of the fried bread is perfectly balanced by the smoothness of the saffron-infused milk sauce, creating a truly regal experience for the taste buds.\", \"/food/shahi_tukray.webp\"], [35, \"Karachi Breeze\", \"id, here are a few possibilities: If it's a dessert: Karachi Breeze could be a refreshing summer dessert, similar to kulfi or falooda. It might feature flavors like cardamom, rosewater, or pistachio. If it's a savory dish: Karachi Breeze could be a type of street food or snack that originated in the city. It might resemble dishes like kebabs, chaat, or samosas.If you have any more information about \\\"Karachi Breeze,\\\" I'd be happy to try and provide a more accurate description!\", \"/food/karachi_breeze.webp\"], [36, \"Shami Kebab\", \"A popular Pakistani street food, Shami Kebab is a small, patty-like kebab made from a mixture of minced lamb or beef, onions, and spices. The flavorful filling is then wrapped in a thin layer of breadcrumbs and fried to perfection, resulting in a crispy exterior and juicy interior. Served hot with a side of chutney or salad, Shami Kebab is often enjoyed as a snack or light meal in Pakistan and other parts of South Asia.\", \"/food/shami_kebab.webp\"], [37, \"Halwa Puri\", \" classic Pakistani breakfast dish consisting of crispy, flaky puris (fried bread) served with a sweet and creamy halwa (a semolina pudding made from wheat flour, milk, sugar, and ghee). The combination of the crunchy puri and rich, velvety halwa is a match made in heaven!\", \"/food/halwa_puri.webp\"], [38, \"Chana Masala\", \"A flavorful and spicy North Indian-inspired curry made with chickpeas (chana) in a rich, tomato-based sauce. The tender chickpeas are cooked in a blend of aromatic spices like cumin, coriander, garam masala, and chili peppers, which gives the dish its distinct taste and aroma. Often served over basmati rice or with naan bread, Chana Masala is a popular and comforting Pakistani dish that's both easy to make and delicious to eat!\", \"/food/chana_masala.webp\"], [39, \"Nihari Kebab\", \" A flavorful and succulent Pakistani kebab variant, made with slow-cooked lamb (or beef) on the bone in a rich, velvety nihari gravy. The tender meat is then skewered onto a stick or served as a patty, often accompanied by a side of naan bread or rice to mop up the savory sauce.\", \"/food/nihari_kebab.webp\"], [40, \"Karachi Haleem\", \"t description:Karachi Haleem: A hearty, flavorful stew originating from Karachi, the financial capital of Pakistan. This rich and comforting dish is made with slow-cooked wheat, lentils, meat (usually beef or mutton), spices, and ghee (clarified butter). The slow cooking process tenderizes the ingredients, resulting in a thick, creamy sauce that's both nourishing and satisfying. Often served at special occasions like Eid al-Fitr celebrations, Karachi Haleem is a beloved staple in Pakistani cuisine, cherished for its wholesome goodness and comforting warmth.\", \"/food/karachi_haleem.webp\"], [41, \"Farchi\", \"like to try and help you further. Could you please provide more context or clarify what Farchi is? Is it a specific type of dessert, snack, main course, etc.? Any additional information would be helpful in generating an accurate description for you!\", \"/food/farchi.webp\"], [42, \"Kachoris \", \"A crispy, savory pastry ball from Pakistani cuisine, Kachori is a popular street food and snack. Made with a flaky dough wrapped around a spiced potato or onion filling, these golden-brown fried snacks are often served with a dollop of chutney or tamarind sauce. The crunch of the outer shell gives way to a flavorful, slightly spicy interior that's both addictive and satisfying!\", \"/food/kachoris_.webp\"], [43, \"Sag Aloo \", \"t description:\\\"Sag Aloo\\\" is a flavorful and spicy potato curry made with mustard green leaves (sag) and boiled potatoes. The mustard greens are cooked in oil with garlic, ginger, and spices like cumin, coriander, and turmeric, which give it a vibrant color and aroma. The dish is often served with naan or roti, and the potatoes add a nice texture to balance out the bitter taste of the mustard greens.\", \"/food/sag_aloo_.webp\"], [44, \"Zarda\", \"itional Pakistani dessert, Zarda is a sweet, flavorful rice pudding made with fragrant basmati rice, sugar, milk, and aromatic spices like cardamom, saffron, and rosewater. The dish is often served on special occasions such as Eid-al-Fitr (Ramzan's end of fasting period), weddings, and other festivities, where it's typically decorated with dried fruits, nuts, and edible gold or silver leaves for added luxury and visual appeal.\", \"/food/zarda.webp\"], [45, \"Karachi Bites\", \"w possibilities: Karachi Bites could be a type of street food or snack from Karachi, similar to a fried doughnut or a savory pastry. Alternatively, it might be a sweet or savory treat inspired by the flavors and culture of Karachi.If you have any more information about Karachi Bites, please let me know! I'd love to learn more.\", \"/food/karachi_bites.webp\"], [46, \"Chicken Tikka\", \"and aromatic Pakistani classic, Chicken Tikka is marinated chicken cooked to perfection in a rich blend of spices, yogurt, and lemon juice. Tandoori-roasted to tender, juicy goodness, this popular dish is then served with a side of fresh cilantro, basmati rice, or naan bread, making it a staple of Pakistani cuisine that's both savory and satisfying.\\\"\", \"/food/chicken_tikka.webp\"], [47, \"Samosa\", \"A savory, deep-fried or baked pastry filled with spiced potatoes, peas, onions, and sometimes meat or lentils. Typically served as a snack or appetizer, samosas are crispy on the outside and fluffy on the inside, often accompanied by a side of chutney or yogurt for dipping.\", \"/food/samosa.webp\"], [48, \"Fulka\", \"nown as Roti or Chapati):A traditional Pakistani flatbread, made from whole wheat flour, water, and salt. Fulkas are unleavened, soft, and slightly puffed breads that are often served with curries, biryanis, and other popular Pakistani dishes to scoop up flavorful sauces and gravies. They're a staple in Pakistani cuisine, often baked on a hot griddle (tava) or cooked over an open flame, making them crispy and golden on the outside while remaining soft within.\", \"/food/fulka.webp\"], [49, \"Halwa\", \", sweet, and creamy dessert made from milk solids (usually semolina or wheat flour) that has been cooked with ghee (clarified butter), sugar, and spices. The resulting halwa is a thick, custard-like pudding that's often flavored with cardamom, nuts, or dried fruits, and garnished with chopped pistachios or almonds. It's a beloved treat in Pakistani cuisine, often served at special occasions and celebrations.\", \"/food/halwa.webp\"], [50, \"Sheesh Mahal\", \"d find out that there is a famous palace in Lahore, Pakistan called the Shish Mahal (also known as Sheesh Mahal), which is known for its intricate architecture and beautiful Mughal-era paintings.If you meant to ask about a food item named \\\"Shish Mahal\\\", here's a possible description:Shish Mahal: A Pakistani-style kebab dish, possibly made with marinated lamb or chicken, grilled over an open flame and served with a side of spices, herbs, and sometimes served with naan bread or rice.\", \"/food/sheesh_mahal.webp\"], [51, \"Sheesh Kabab\", \"A classic Pakistani street food, Shish Kabab is a juicy and flavorful skewer of marinated meat (usually lamb or beef) grilled to perfection. The tender pieces of meat are threaded onto a stick, brushed with a blend of spices, yogurt, and lemon juice, and then grilled over an open flame. Served hot and often accompanied by a side of naan bread or rice, Shish Kabab is a popular snack that's both satisfying and delicious!\", \"/food/sheesh_kabab.webp\"], [52, \"Baingan Barta\", \"a is a popular Pakistani dish made with roasted eggplant (baingan) stuffed with a flavorful mixture of onions, garlic, ginger, tomatoes, and spices. The eggplant is slow-cooked in a rich tomato-based sauce, giving it a tender and velvety texture, while the filling adds a burst of flavor and aroma. This hearty and comforting dish is often served as a main course or side, and is loved for its unique blend of Pakistani and Indian flavors.\\\"\", \"/food/baingan_barta.webp\"], [53, \"Kofta\", \"A traditional Pakistani dish, Kofta is a flavorful and savory meatball made from ground meat (usually beef or lamb), mixed with spices, herbs, and breadcrumbs. The mixture is then shaped into small patties or balls and grilled or cooked in a rich tomato-based sauce, resulting in a juicy, aromatic, and often served with rice, naan bread, or roti. Kofta is a popular street food in Pakistan and is often enjoyed as a snack or appetizer, showcasing the country's rich culinary heritage.\", \"/food/kofta.webp\"], [54, \"Chicken Karahi\", \"iA flavorful and spicy Pakistani dish made with marinated chicken cooked in a wok-like vessel called a karahi. Thinly sliced onions, bell peppers, tomatoes, and spices are saut\\u00e9ed together with tender pieces of chicken, creating a rich and vibrant sauce. The result is a deliciously aromatic and spicy stir-fry that's both satisfying and filling. Chicken Karahi is often served with naan bread or rice to enjoy the full flavor experience!\", \"/food/chicken_karahi.webp\"], [55, \"Baingan Bharta\", \"aA deliciously smoky Punjabi dish made with roasted eggplant, onions, garlic, ginger, and spices. The tender flesh of the eggplant is mashed and cooked in a flavorful blend of spices, tomatoes, and herbs, creating a rich, slightly charred paste. Baingan Bharta is often served as a side dish or used as a filling for various Indian flatbreads, and is a beloved staple in Pakistani cuisine.\", \"/food/baingan_bharta.webp\"], [56, \"Kulfi\", \"itional Pakistani dessert, Kulfi is a creamy and rich ice cream made with milk, cream, and sugar. It's similar to Indian-style kulfi, but often has a more dense and gelato-like texture. Flavors can range from classic cardamom and saffron to more modern flavors like mango and pistachio. Kulfi is typically served in small, hand-hewn cones made of clay or paper, adding to its rustic charm.\", \"/food/kulfi.webp\"], [57, \"Halwa Poori\", \"A classic Pakistani breakfast dish, Halwa Puri is a delightful combination of crispy, flaky Pooris (deep-fried flatbreads) served with a rich, sweet, and creamy Halwa (semolina pudding). The Pooris are typically hand-puffed to create their signature texture, while the Halwa is made with semolina flour, milk, sugar, and ghee. Together, they make for a satisfying, comforting meal that's both flavorful and filling.\", \"/food/halwa_poori.webp\"], [58, \"Karahi Chicken\", \"nA spicy and flavorful Pakistani dish made with marinated chicken cooked in a wok-like vessel called \\\"karakhi\\\" or \\\"karahi\\\". Sliced onions, bell peppers, tomatoes, and aromatic spices like cumin, coriander, and red chili peppers are stir-fried together with tender chunks of chicken to create a rich and savory sauce. Karahi Chicken is often served hot with naan bread or rice, making it a popular and mouth-watering street food in Pakistan.\", \"/food/karahi_chicken.webp\"], [59, \"Pakora \", \")A popular Pakistani street food, Pakora is a crispy fried snack made from vegetables, chickpea flour, and spices. Typically consisting of fritters filled with marinated potatoes, onions, cauliflower, or other vegetables, Pakoras are often served as an appetizer or side dish. The crunchy exterior gives way to a soft, flavorful interior, making them a delight to eat.\", \"/food/pakora_.webp\"], [60, \"Khichdi\", \" comforting and nutritious Pakistani dish made from a mixture of split red lentils (masoor dal) and rice, cooked together in a flavorful broth. The result is a soothing, easy-to-digest meal that's often served with vegetables, spices, and sometimes even ghee or oil to add richness and depth of flavor. Khichdi is a staple food in many Indian and Pakistani households, particularly when someone is feeling under the weather or needs a nourishing meal.\\\"\", \"/food/khichdi.webp\"]]\n"
     ]
    }
   ],
   "source": [
    "import json\n",
    "# Convert data to a JSON string\n",
    "json_data = json.dumps(data)\n",
    "\n",
    "# Print the JSON string\n",
    "print(json_data)\n",
    "\n",
    "# Save the JSON data to a file called 'output.json'\n",
    "with open('./src/data/menu.json', 'w') as f:\n",
    "    json.dump(data, f)"
   ]
  }
 ],
 "metadata": {
  "kernelspec": {
   "display_name": "base",
   "language": "python",
   "name": "python3"
  },
  "language_info": {
   "codemirror_mode": {
    "name": "ipython",
    "version": 3
   },
   "file_extension": ".py",
   "mimetype": "text/x-python",
   "name": "python",
   "nbconvert_exporter": "python",
   "pygments_lexer": "ipython3",
   "version": "3.10.14"
  }
 },
 "nbformat": 4,
 "nbformat_minor": 2
}
